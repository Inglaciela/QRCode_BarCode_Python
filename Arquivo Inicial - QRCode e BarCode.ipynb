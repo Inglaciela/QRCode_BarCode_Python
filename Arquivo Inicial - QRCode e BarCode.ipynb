{
 "cells": [
  {
   "cell_type": "markdown",
   "id": "691ac3d2",
   "metadata": {},
   "source": [
    "### Exemplo: Lista de Produtos em uma Fábrica"
   ]
  },
  {
   "cell_type": "code",
   "execution_count": 15,
   "id": "7aacb8ec",
   "metadata": {},
   "outputs": [
    {
     "data": {
      "text/plain": [
       "'codigo_barra.png'"
      ]
     },
     "execution_count": 15,
     "metadata": {},
     "output_type": "execute_result"
    }
   ],
   "source": [
    "from barcode import EAN13\n",
    "from barcode.writer import ImageWriter\n",
    "\n",
    "codigo_barra = EAN13(\"123123123123\", writer=ImageWriter())\n",
    "codigo_barra.save(\"codigo_barra\")"
   ]
  },
  {
   "cell_type": "code",
   "execution_count": 16,
   "id": "9d331cde",
   "metadata": {},
   "outputs": [],
   "source": [
    "codigos_produtos = {\n",
    "    \"Feijao\": \"551746511111\",\n",
    "    \"Arroz\": \"665789011111\",\n",
    "    \"Macarrao\": \"665887111111\",\n",
    "    \"Azeite\": \"998556211111\"}\n",
    "\n",
    "for produto in codigos_produtos:\n",
    "    codigo = codigos_produtos[produto]\n",
    "    codigo_barra = EAN13(codigo, writer=ImageWriter())\n",
    "    codigo_barra.save(f\"codigo_barra_{produto}\")"
   ]
  },
  {
   "cell_type": "markdown",
   "id": "269f76a6",
   "metadata": {},
   "source": [
    "### Exemplo: Lista de Produtos de um E-commerce"
   ]
  },
  {
   "cell_type": "code",
   "execution_count": 17,
   "id": "2980f4e8",
   "metadata": {},
   "outputs": [],
   "source": [
    "import qrcode\n",
    "\n",
    "imagem_qrcode = qrcode.make(\"https://pages.hashtagtreinamentos.com/inscricao-minicurso-python-automacao-org?origemurl=hashtag_yt_org_minipython_videoqrcode\")\n",
    "imagem_qrcode.save(\"qrcode_pyrhon.png\")"
   ]
  },
  {
   "cell_type": "code",
   "execution_count": 18,
   "id": "10150016",
   "metadata": {},
   "outputs": [],
   "source": [
    "links_produtos = {\n",
    "    \"Excel\": \"https://excelparaestagio.klickpages.com.br/inscricao-basico-cta-att?origemurl=hashtag_yt_org_minibasico2_videoqrcode\",\n",
    "    \"VBA\": \"https://pages.hashtagtreinamentos.com/inscricao-minicurso-formulario?origemurl=hashtag_yt_org_miniform_videoqrcode\",\n",
    "    \"Power BI\": \"https://excelparaestagio.klickpages.com.br/inscricao-minicurso-power-bi?origemurl=hashtag_yt_org_minicursopbi_videoqrcode\",\n",
    "    \"Python\": \"https://pages.hashtagtreinamentos.com/inscricao-minicurso-python-automacao-org?origemurl=hashtag_yt_org_minipython_videoqrcode\",\n",
    "    \"SQL\":\"https://excelparaestagio.klickpages.com.br/inscricao-minicurso-sql?origemurl=hashtag_yt_org_minisql_videoqrcode\"\n",
    "}\n",
    "\n",
    "for produto in links_produtos:\n",
    "    link = links_produtos[produto]\n",
    "    imagem_qrcode = qrcode.make(link)\n",
    "    imagem_qrcode.save(f\"qrcode_{produto}.png\")"
   ]
  },
  {
   "cell_type": "code",
   "execution_count": null,
   "id": "17ca3996",
   "metadata": {},
   "outputs": [],
   "source": []
  }
 ],
 "metadata": {
  "kernelspec": {
   "display_name": "Python 3",
   "language": "python",
   "name": "python3"
  },
  "language_info": {
   "codemirror_mode": {
    "name": "ipython",
    "version": 3
   },
   "file_extension": ".py",
   "mimetype": "text/x-python",
   "name": "python",
   "nbconvert_exporter": "python",
   "pygments_lexer": "ipython3",
   "version": "3.8.8"
  }
 },
 "nbformat": 4,
 "nbformat_minor": 5
}
